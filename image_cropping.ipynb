{
 "cells": [
  {
   "cell_type": "code",
   "execution_count": 3,
   "metadata": {},
   "outputs": [],
   "source": [
    "from PIL import Image, ImageDraw\n",
    "\n",
    "# Load image:\n",
    "input_image = Image.open(\"01.jpg\")\n",
    "input_pixels = input_image.load()\n",
    "\n",
    "# Cropped area\n",
    "# Here we have height and width but it could also be x1,y1,x2,y2\n",
    "start_x = 843\n",
    "start_y = 637\n",
    "width = 163\n",
    "height = 220\n",
    "origin = (start_x, start_y)\n",
    "end = (start_x + width, start_y + height)\n",
    "\n",
    "# Create output image\n",
    "output_image = Image.new(\"RGB\", (end[0] - origin[0], end[1] - origin[1]))\n",
    "draw = ImageDraw.Draw(output_image)\n",
    "\n",
    "# Copy pixels\n",
    "for x in range(output_image.width):\n",
    "    for y in range(output_image.height):\n",
    "        xp, yp = x + origin[0], y + origin[1]\n",
    "        draw.point((x, y), input_pixels[xp, yp])\n",
    "\n",
    "output_image.save(\"output.png\")\n",
    "output_image.show()"
   ]
  }
 ],
 "metadata": {
  "kernelspec": {
   "display_name": "Python 3",
   "language": "python",
   "name": "python3"
  },
  "language_info": {
   "codemirror_mode": {
    "name": "ipython",
    "version": 3
   },
   "file_extension": ".py",
   "mimetype": "text/x-python",
   "name": "python",
   "nbconvert_exporter": "python",
   "pygments_lexer": "ipython3",
   "version": "3.8.3"
  }
 },
 "nbformat": 4,
 "nbformat_minor": 4
}
