{
 "cells": [
  {
   "cell_type": "code",
   "execution_count": null,
   "id": "c8edab19-78b1-4408-85b8-cc3f459a4e8f",
   "metadata": {},
   "outputs": [],
   "source": [
    "import torch\n",
    "from torchsummary import summary\n",
    "from torchvision import models\n",
    "import torch.nn as nn"
   ]
  },
  {
   "cell_type": "code",
   "execution_count": null,
   "id": "e637f1eb-d78e-4227-87bb-1039f2bdcc12",
   "metadata": {},
   "outputs": [],
   "source": [
    "model_path = \"../save_model/Myanmar-encode.pt\""
   ]
  },
  {
   "cell_type": "code",
   "execution_count": null,
   "id": "7fb82d39-5248-44a1-92bd-fb610b289cf9",
   "metadata": {},
   "outputs": [],
   "source": [
    "map_location=torch.device('cpu')"
   ]
  },
  {
   "cell_type": "code",
   "execution_count": null,
   "id": "cbcd4965-617c-416e-a40a-ad5fb263472a",
   "metadata": {},
   "outputs": [],
   "source": [
    "model = models.resnet34()\n",
    "num_ftrs = model.fc.in_features\n",
    "model.fc = nn.Linear(num_ftrs, 10)\n",
    "model.load_state_dict(torch.load(model_path,map_location=map_location))"
   ]
  },
  {
   "cell_type": "code",
   "execution_count": null,
   "id": "7e6d3bd6-9251-46e0-a500-29f8f84676d7",
   "metadata": {},
   "outputs": [],
   "source": [
    "# l = [module for module in model.modules() if not isinstance(module, nn.Conv2d)]\n",
    "# len(l)"
   ]
  },
  {
   "cell_type": "code",
   "execution_count": null,
   "id": "57837f95-15f8-4e9d-a99c-cafc2d9a5106",
   "metadata": {},
   "outputs": [],
   "source": [
    "summary(model, (3, 224, 224))"
   ]
  }
 ],
 "metadata": {
  "kernelspec": {
   "display_name": "Python 3 (ipykernel)",
   "language": "python",
   "name": "python3"
  },
  "language_info": {
   "codemirror_mode": {
    "name": "ipython",
    "version": 3
   },
   "file_extension": ".py",
   "mimetype": "text/x-python",
   "name": "python",
   "nbconvert_exporter": "python",
   "pygments_lexer": "ipython3",
   "version": "3.9.9"
  }
 },
 "nbformat": 4,
 "nbformat_minor": 5
}
